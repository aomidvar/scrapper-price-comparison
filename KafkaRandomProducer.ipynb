{
  "nbformat": 4,
  "nbformat_minor": 0,
  "metadata": {
    "colab": {
      "provenance": [],
      "authorship_tag": "ABX9TyPq7ldPtkvVz9KyQ1upKX1U",
      "include_colab_link": true
    },
    "kernelspec": {
      "name": "python3",
      "display_name": "Python 3"
    },
    "language_info": {
      "name": "python"
    }
  },
  "cells": [
    {
      "cell_type": "markdown",
      "metadata": {
        "id": "view-in-github",
        "colab_type": "text"
      },
      "source": [
        "<a href=\"https://colab.research.google.com/github/aomidvar/scrapper-price-comparison/blob/main/KafkaRandomProducer.ipynb\" target=\"_parent\"><img src=\"https://colab.research.google.com/assets/colab-badge.svg\" alt=\"Open In Colab\"/></a>"
      ]
    },
    {
      "cell_type": "code",
      "execution_count": 1,
      "metadata": {
        "colab": {
          "base_uri": "https://localhost:8080/"
        },
        "id": "SnxvwCCpu9N-",
        "outputId": "38474bb5-c8aa-476f-9cb8-f901dc8d676a"
      },
      "outputs": [
        {
          "output_type": "stream",
          "name": "stdout",
          "text": [
            "Looking in indexes: https://pypi.org/simple, https://us-python.pkg.dev/colab-wheels/public/simple/\n",
            "Collecting confluent-kafka\n",
            "  Downloading confluent_kafka-2.1.1-cp310-cp310-manylinux_2_17_x86_64.manylinux2014_x86_64.whl (3.9 MB)\n",
            "\u001b[2K     \u001b[90m━━━━━━━━━━━━━━━━━━━━━━━━━━━━━━━━━━━━━━━━\u001b[0m \u001b[32m3.9/3.9 MB\u001b[0m \u001b[31m35.4 MB/s\u001b[0m eta \u001b[36m0:00:00\u001b[0m\n",
            "\u001b[?25hInstalling collected packages: confluent-kafka\n",
            "Successfully installed confluent-kafka-2.1.1\n"
          ]
        }
      ],
      "source": [
        "pip install confluent-kafka"
      ]
    },
    {
      "cell_type": "code",
      "source": [
        "from typing import List, Tuple, Any\n",
        "import os\n",
        "import requests\n",
        "from datetime import datetime\n",
        "from flask import Flask, request, jsonify\n",
        "import json\n",
        "import random\n",
        "import time\n",
        "from confluent_kafka import Producer, Consumer, KafkaError"
      ],
      "metadata": {
        "id": "1dygya1JvHeh"
      },
      "execution_count": 11,
      "outputs": []
    },
    {
      "cell_type": "code",
      "source": [
        "# Set the configuration properties\n",
        "kafka_config = {\n",
        "    \"bootstrap.servers\": \"pkc-6ojv2.us-west4.gcp.confluent.cloud:9092\",\n",
        "    \"security.protocol\": \"SASL_SSL\",\n",
        "    \"sasl.mechanisms\": \"PLAIN\",\n",
        "    \"sasl.username\": \"RFU2BCEDGB2UJRWD\",\n",
        "    \"sasl.password\": \"rjOrdR009uQUx8F67ObMn6on0IAgEtSunMFIKR2KK17SVJqQ1gh+9CmTT9NXiAjp\"\n",
        "}"
      ],
      "metadata": {
        "id": "pwJHUGpavbeu"
      },
      "execution_count": 4,
      "outputs": []
    },
    {
      "cell_type": "code",
      "source": [
        "# Create a Kafka producer with the configuration properties\n",
        "producer = Producer(**kafka_config)"
      ],
      "metadata": {
        "id": "9NlW7f_yviVt"
      },
      "execution_count": 5,
      "outputs": []
    },
    {
      "cell_type": "code",
      "source": [
        "# Define the topic to send messages to\n",
        "topic = 'KafkaTopicIN'\n",
        "# Generate and send messages in a loop\n",
        "while True:\n",
        "    # Generate a random JSON message\n",
        "    message = {\"availability\": random.choice([\"Quedan pocos\",\"Quedan pocos\"]),\n",
        "  \"brand\": random.choice([\"Onix\",\"Apple\",\"Griffin\",\"Lg\"]),\n",
        "  \"category_id\": \"112\",\n",
        "  \"date\": datetime.now().strftime(\"%Y-%m-%d %H:%M:%S\"),\n",
        "  \"price_height\": random.random()*6583,\n",
        "  \"price_low\": \"384.30\",\n",
        "  \"product_url\": random.choice([\"https://www.elpalaciodehierro.com/onix-bocina-mermaid-40513545.html\",\"https://www.elpalaciodehierro.com/apple-funda-iphone-14-pro-max-transparente-42996946.html\",\"https://www.elpalaciodehierro.com/apple-funda-case-para-iphone-14-plus-si-midnight-42997025.html\",\"https://www.elpalaciodehierro.com/apple-funda-iphone-14-pro-max-negra-42996985.html\",\"https://www.elpalaciodehierro.com/griffin-cable-usb-c-a-lightning-1.8-m---negro-42910307.html\",\"https://www.elpalaciodehierro.com/griffin-cable-usb-c-a-lightning-premium-1.5-m---plata-42910308.html\"]),\n",
        "  \"sku\": random.randint(42991111,42999999),\n",
        "  \"store_id\": \"1\",\n",
        "  \"title\": random.choice([\"Bocina Mermaid\", \"Funda iPhone 14 Pro Max Transparente\",\"Funda Case para iPhone 14 Plus Si Midnight\",\"Funda iPhone 14 Pro Max Negra\", \"Cable USB-C a Lightning 1.8 m - Negro\",\"Cable USB-C a Lightning Premium 1.5 m - Plata\",\"Funda iPhone 14 Transparente\",\"Cable USB-C a Lightning 1.8 m - Blanco\",\"Monitor Gamer 23.8 Pulgadas PlanaLED UltraGear FHD 144 Hz 24GN60R-B\"])}\n",
        "    \n",
        "    # Convert the message to a JSON string\n",
        "    message_str = json.dumps(message)\n",
        "    \n",
        "    # Send the message to Kafka\n",
        "    producer.produce(topic, message_str.encode('utf-8'))\n",
        "    \n",
        "    # Sleep for some time before sending the next message\n",
        "    time.sleep(1)"
      ],
      "metadata": {
        "id": "FIgQ8H_RvnDu"
      },
      "execution_count": null,
      "outputs": []
    }
  ]
}